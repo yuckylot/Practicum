{
 "cells": [
  {
   "cell_type": "code",
   "execution_count": 71,
   "metadata": {
    "dotnet_interactive": {
     "language": "csharp"
    },
    "polyglot_notebook": {
     "kernelName": "csharp"
    },
    "vscode": {
     "languageId": "polyglot-notebook"
    }
   },
   "outputs": [],
   "source": [
    "using System.Text.RegularExpressions;\n",
    "using System.Diagnostics;\n",
    "static Random random = new Random();\n",
    "        public static char GetLetter()\n",
    "        {\n",
    "            int num = random.Next(33, 123); \n",
    "            char let = (char)(num);\n",
    "            return let;\n",
    "        }"
   ]
  },
  {
   "cell_type": "markdown",
   "metadata": {},
   "source": [
    "**Part 1.**\n",
    "Провести 2 эксперимента: (для string и StringBuilder):\n",
    "\n",
    "    1. Создать строку длиной 10 символов\n",
    "    2. Запустить цикл от 0 до 1000000, на каждой итерации i-й(mod10) символ меняется на случайный\n",
    "    3. Вывести время выполнения"
   ]
  },
  {
   "cell_type": "code",
   "execution_count": 72,
   "metadata": {
    "dotnet_interactive": {
     "language": "csharp"
    },
    "polyglot_notebook": {
     "kernelName": "csharp"
    },
    "vscode": {
     "languageId": "polyglot-notebook"
    }
   },
   "outputs": [
    {
     "name": "stdout",
     "output_type": "stream",
     "text": [
      "56ms\r\n"
     ]
    },
    {
     "data": {
      "text/plain": [
       "Ls.@gw7t_!"
      ]
     },
     "metadata": {},
     "output_type": "display_data"
    }
   ],
   "source": [
    "// String\n",
    "string s = \"aaaaaaaaaa\";\n",
    "Stopwatch stopwatch = new Stopwatch();\n",
    "stopwatch.Start();\n",
    "for (int i = 0; i < 1000000; i++) {\n",
    "    s = s.Insert(i%10, Convert.ToString(GetLetter()));\n",
    "    s = s.Remove(i%10+1,1);\n",
    "}\n",
    "stopwatch.Stop();\n",
    "Console.WriteLine($\"{stopwatch.ElapsedMilliseconds}ms\");\n",
    "s\n"
   ]
  },
  {
   "cell_type": "code",
   "execution_count": 76,
   "metadata": {
    "dotnet_interactive": {
     "language": "csharp"
    },
    "polyglot_notebook": {
     "kernelName": "csharp"
    },
    "vscode": {
     "languageId": "polyglot-notebook"
    }
   },
   "outputs": [
    {
     "name": "stdout",
     "output_type": "stream",
     "text": [
      "36ms\r\n"
     ]
    },
    {
     "data": {
      "text/plain": [
       "uF\\;(69LP'"
      ]
     },
     "metadata": {},
     "output_type": "display_data"
    }
   ],
   "source": [
    "// StringBuilder\n",
    "StringBuilder s = new StringBuilder(\"aaaaaaaaaa\");\n",
    "stopwatch.Restart();\n",
    "for (int i = 0; i < 1000000; i++) {\n",
    "    s = s.Insert(i%10, GetLetter());\n",
    "    s = s.Remove(i%10+1,1);\n",
    "}\n",
    "stopwatch.Stop();\n",
    "Console.WriteLine($\"{stopwatch.ElapsedMilliseconds}ms\");\n",
    "\n",
    "s.ToString()"
   ]
  },
  {
   "cell_type": "markdown",
   "metadata": {},
   "source": [
    "**Part 2.** Проверить, что строка содержит время в 24-часовом формате.\n"
   ]
  },
  {
   "cell_type": "code",
   "execution_count": 77,
   "metadata": {
    "dotnet_interactive": {
     "language": "csharp"
    },
    "polyglot_notebook": {
     "kernelName": "csharp"
    },
    "vscode": {
     "languageId": "polyglot-notebook"
    }
   },
   "outputs": [
    {
     "name": "stdout",
     "output_type": "stream",
     "text": [
      "True\n",
      "False\n"
     ]
    }
   ],
   "source": [
    "\n",
    "string t = \"1 15:34:15 abbdf\";\n",
    "string f = \"gfffdfd\";\n",
    "string pat = @\"([0-1][0-9]|2[0-4]):[0-5][0-9]:[0-5][0-9]\";\n",
    "public bool Reg(string pattern, string s) {\n",
    "    Regex regex = new Regex(pattern);\n",
    "    Match matcht = regex.Match(s);\n",
    "    if (matcht.Success) {;\n",
    "        return true;\n",
    "    }\n",
    "    else {\n",
    "        return false;\n",
    "    }\n",
    "}\n",
    "Console.WriteLine(Reg(pat, t));\n",
    "Console.WriteLine(Reg(pat, f));"
   ]
  },
  {
   "cell_type": "markdown",
   "metadata": {},
   "source": [
    "**Part 3.**"
   ]
  },
  {
   "cell_type": "markdown",
   "metadata": {},
   "source": [
    "Проверить, что строка содержит корректный адрес электронной почты:\n",
    "\n",
    "В никнейме содержатся буквы, цифры, дефисы, нижние подчеркивания\n",
    "Домен может быть любого уровня > 1. Допустимые имена"
   ]
  },
  {
   "cell_type": "code",
   "execution_count": 78,
   "metadata": {
    "dotnet_interactive": {
     "language": "csharp"
    },
    "polyglot_notebook": {
     "kernelName": "csharp"
    },
    "vscode": {
     "languageId": "polyglot-notebook"
    }
   },
   "outputs": [
    {
     "name": "stdout",
     "output_type": "stream",
     "text": [
      "True\n",
      "False\n"
     ]
    }
   ],
   "source": [
    "string correctEmailFormat = \"gghv  g1g1-_mail@fsa.ujgvgchgcgni.rupie s\";\n",
    "string incorrectEmailFormat = \"3.@d\";\n",
    "\n",
    "string pattern = @\"[a-zA-Z0-9-_]+\\@([a-z]+\\.)+[a-z]+ffffffffffffffffffffffffffffffffffffffffffffffffffffffffffffffffffffffffffffffffffffffffffffffffffffffffffffffffffffffffffffffffffffffffffffffffffffffffffffffffffffffffffffffffffffffffffffffffffffffffffffffffffffffffffffffffffffffffffffffffffffffffffffffffffffffffffffffffffffffff     ffffffffffffffff f f   ffffffffffffffff fggffffffffff \";\n",
    "\n",
    "Console.WriteLine($\"{Regex.IsMatch(correctEmailFormat, pattern)}\");\n",
    "Console.WriteLine($\"{Regex.IsMatch(incorrectEmailFormat, pattern)}\");"
   ]
  }
 ],
 "metadata": {
  "kernelspec": {
   "display_name": "Python 3",
   "language": "python",
   "name": "python3"
  },
  "language_info": {
   "name": "python",
   "version": "3.12.0"
  },
  "polyglot_notebook": {
   "kernelInfo": {
    "defaultKernelName": "csharp",
    "items": [
     {
      "aliases": [],
      "languageName": "csharp",
      "name": "csharp"
     }
    ]
   }
  }
 },
 "nbformat": 4,
 "nbformat_minor": 2
}
