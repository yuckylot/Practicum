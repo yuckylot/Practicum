{
 "cells": [
  {
   "cell_type": "code",
   "execution_count": 5,
   "metadata": {
    "dotnet_interactive": {
     "language": "csharp"
    },
    "polyglot_notebook": {
     "kernelName": "csharp"
    }
   },
   "outputs": [],
   "source": [
    "using Newtonsoft.Json;\n",
    "using Newtonsoft.Json.Linq;\n",
    "using System.IO;\n",
    "using System.Collections.Generic;\n",
    "\n",
    "\n",
    "class Solution {\n",
    "\n",
    "\n",
    "    public static void GetStudentsWithHighestGPA(string path, string outPath) {\n",
    "        \n",
    "        string inputJson = File.ReadAllText(path);\n",
    "\n",
    "        dynamic inputData = JsonConvert.DeserializeObject(inputJson);\n",
    "        List<Student> students = JsonConvert.DeserializeObject<List<Student>>(inputData.data.ToString());\n",
    "\n",
    "        var cadetGpas = students.GroupBy(c => c.Name)\n",
    "            .Select(g => new CadetGPA()\n",
    "            {\n",
    "                Cadet = g.Key,\n",
    "                GPA = g.Average(c => c.Mark)\n",
    "            })\n",
    "            .ToList();\n",
    "         double maxGpa = cadetGpas.Max(c => c.GPA);\n",
    "        List<CadetGPA> highestGpaCadets = cadetGpas.Where(c => c.GPA == maxGpa).ToList();\n",
    "\n",
    "        var outputData = new\n",
    "        {\n",
    "            Response = highestGpaCadets\n",
    "        };\n",
    "\n",
    "        string outputJson = JsonConvert.SerializeObject(outputData, Formatting.Indented);\n",
    "        File.WriteAllText(outPath, outputJson);\n",
    "        \n",
    "    }\n",
    "\n",
    "    public static void CalculateGPAByDiscipline(string path, string outPath) {\n",
    "        string inputJson = File.ReadAllText(path);\n",
    "\n",
    "        dynamic inputData = JsonConvert.DeserializeObject(inputJson);\n",
    "        List<Student> cadets = JsonConvert.DeserializeObject<List<Student>>(inputData.data.ToString());\n",
    "\n",
    "        var disciplineGpas = cadets.GroupBy(c => c.Discipline)\n",
    "            .Select(g =>\n",
    "                new JObject(\n",
    "                    new JProperty(g.Key, g.Average(c => c.Mark))\n",
    "                )\n",
    "            ).ToList();\n",
    "\n",
    "        \n",
    "        var outputData = new\n",
    "        {\n",
    "            Response = disciplineGpas\n",
    "        };\n",
    "\n",
    "        \n",
    "        string outputJson = JsonConvert.SerializeObject(outputData, Formatting.Indented);\n",
    "        File.WriteAllText(outPath, outputJson);\n",
    "    }\n",
    "\n",
    "    public static void GetBestGroupsByDiscipline(string path, string outPath) {\n",
    "        \n",
    "        string inputJson = File.ReadAllText(path);\n",
    "\n",
    "        dynamic inputData = JsonConvert.DeserializeObject(inputJson);\n",
    "        List<Student> cadets = JsonConvert.DeserializeObject<List<Student>>(inputData.data.ToString());\n",
    "\n",
    "        var groupGpas = cadets.GroupBy(c => new { c.Discipline, c.Group })\n",
    "            .Select(g => new\n",
    "            {\n",
    "                Discipline = g.Key.Discipline,\n",
    "                Group = g.Key.Group,\n",
    "                GPA = g.Average(c => c.Mark)\n",
    "            })\n",
    "            .ToList();\n",
    "\n",
    "        var bestGroups = groupGpas.GroupBy(g => g.Discipline)\n",
    "            .Select(d => d.OrderByDescending(g => g.GPA).First())\n",
    "            .ToList();\n",
    "\n",
    "        var outputData = new\n",
    "        {\n",
    "            Response = bestGroups\n",
    "        };\n",
    "\n",
    "        string outputJson = JsonConvert.SerializeObject(outputData, Formatting.Indented);\n",
    "        File.WriteAllText(outPath, outputJson);\n",
    "    }\n",
    "}"
   ]
  },
  {
   "cell_type": "code",
   "execution_count": 1,
   "metadata": {
    "dotnet_interactive": {
     "language": "csharp"
    },
    "polyglot_notebook": {
     "kernelName": "csharp"
    }
   },
   "outputs": [],
   "source": [
    "class Student {\n",
    "    public string Name ;\n",
    "    public string Group ;\n",
    "    public string Discipline;\n",
    "    public int Mark;\n",
    "\n",
    "    public Student(string name, string group, string discipline, int mark) {\n",
    "        this.Name = name;\n",
    "        this.Group = group;\n",
    "        this.Discipline = discipline;\n",
    "        this.Mark = mark;\n",
    "    }\n",
    "}\n",
    "public class CadetGPA {\n",
    "    public string Cadet { get; set; }\n",
    "    public double GPA { get; set; }\n",
    "}"
   ]
  },
  {
   "cell_type": "code",
   "execution_count": null,
   "metadata": {
    "dotnet_interactive": {
     "language": "csharp"
    },
    "polyglot_notebook": {
     "kernelName": "csharp"
    }
   },
   "outputs": [],
   "source": [
    "\n",
    "string path1 = @\"C:\\Coding\\repos\\yuckylot\\Practicum\\Files\\GetStudentsWithHighestGPA.json\";\n",
    "string outPath1 = @\"C:\\Coding\\repos\\yuckylot\\Practicum\\Files\\GetStudentsWithHighestGPA_Out.json\";\n",
    "string path2 = @\"C:\\Coding\\repos\\yuckylot\\Practicum\\Files\\CalculateGPAByDiscipline.json\";\n",
    "string outPath2 = @\"C:\\Coding\\repos\\yuckylot\\Practicum\\Files\\CalculateGPAByDiscipline_Out.json\";\n",
    "string path3 = @\"C:\\Coding\\repos\\yuckylot\\Practicum\\Files\\GetBestGroupsByDiscipline.json\";\n",
    "string outPath3 = @\"C:\\Coding\\repos\\yuckylot\\Practicum\\Files\\GetBestGroupsByDiscipline_Out.json\";\n",
    "\n",
    "\n",
    "Solution.GetStudentsWithHighestGPA(path1, outPath1);\n",
    "Solution.CalculateGPAByDiscipline(path2, outPath2);\n",
    "Solution.GetBestGroupsByDiscipline(path3, outPath3);"
   ]
  }
 ],
 "metadata": {
  "kernelspec": {
   "display_name": ".NET (C#)",
   "language": "C#",
   "name": ".net-csharp"
  },
  "language_info": {
   "name": "polyglot-notebook"
  },
  "polyglot_notebook": {
   "kernelInfo": {
    "defaultKernelName": "csharp",
    "items": [
     {
      "aliases": [],
      "languageName": "csharp",
      "name": "csharp"
     }
    ]
   }
  }
 },
 "nbformat": 4,
 "nbformat_minor": 2
}
