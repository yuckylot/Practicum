{
 "cells": [
  {
   "cell_type": "markdown",
   "metadata": {},
   "source": [
    "**№1 Trapezoida rule in declarative style**"
   ]
  },
  {
   "cell_type": "code",
   "execution_count": 1,
   "metadata": {
    "dotnet_interactive": {
     "language": "csharp"
    },
    "polyglot_notebook": {
     "kernelName": "csharp"
    },
    "vscode": {
     "languageId": "polyglot-notebook"
    }
   },
   "outputs": [],
   "source": [
    "using System.Linq;\n",
    "\n",
    "class TrapezoidalRule {\n",
    "    public static double Solve(Func<double, double> f, double a, double b, double dx) {\n",
    "        double eps = 1E-8;\n",
    "        if ( Double.IsNaN(a) || Double.IsInfinity(a) || Double.IsNaN(b) || Double.IsInfinity(b) || Double.IsNaN(dx) || Double.IsNaN(dx) || Double.IsInfinity(dx)) {\n",
    "            throw new ArgumentException(\"Подбери норм арументы\");    \n",
    "        }\n",
    "        if (dx < eps) {\n",
    "            throw new ArgumentException(\"Подбери норм арументы\");\n",
    "        }\n",
    "        int countTrap = Convert.ToInt32(((b-a)/dx));\n",
    "        double S = f(a);\n",
    "        \n",
    "        S += Enumerable.Range(1, countTrap-1).Select((i) => f(a + (i * dx))).Sum();\n",
    "            \n",
    "        return (S + f(b)) * dx;\n",
    "        \n",
    "    }\n",
    "}"
   ]
  },
  {
   "cell_type": "code",
   "execution_count": 5,
   "metadata": {
    "dotnet_interactive": {
     "language": "csharp"
    },
    "polyglot_notebook": {
     "kernelName": "csharp"
    },
    "vscode": {
     "languageId": "polyglot-notebook"
    }
   },
   "outputs": [
    {
     "data": {
      "text/html": [
       "<div class=\"dni-plaintext\"><pre>35.99999999999596</pre></div><style>\r\n",
       ".dni-code-hint {\r\n",
       "    font-style: italic;\r\n",
       "    overflow: hidden;\r\n",
       "    white-space: nowrap;\r\n",
       "}\r\n",
       ".dni-treeview {\r\n",
       "    white-space: nowrap;\r\n",
       "}\r\n",
       ".dni-treeview td {\r\n",
       "    vertical-align: top;\r\n",
       "    text-align: start;\r\n",
       "}\r\n",
       "details.dni-treeview {\r\n",
       "    padding-left: 1em;\r\n",
       "}\r\n",
       "table td {\r\n",
       "    text-align: start;\r\n",
       "}\r\n",
       "table tr { \r\n",
       "    vertical-align: top; \r\n",
       "    margin: 0em 0px;\r\n",
       "}\r\n",
       "table tr td pre \r\n",
       "{ \r\n",
       "    vertical-align: top !important; \r\n",
       "    margin: 0em 0px !important;\r\n",
       "} \r\n",
       "table th {\r\n",
       "    text-align: start;\r\n",
       "}\r\n",
       "</style>"
      ]
     },
     "metadata": {},
     "output_type": "display_data"
    }
   ],
   "source": [
    "Func<double, double> f = (double x) => -x*x + 9;\n",
    "TrapezoidalRule.Solve(f, -3, 3, 0.000001)"
   ]
  }
 ],
 "metadata": {
  "kernelspec": {
   "display_name": ".NET (C#)",
   "language": "C#",
   "name": ".net-csharp"
  },
  "language_info": {
   "name": "python"
  },
  "polyglot_notebook": {
   "kernelInfo": {
    "defaultKernelName": "csharp",
    "items": [
     {
      "aliases": [],
      "name": "csharp"
     }
    ]
   }
  }
 },
 "nbformat": 4,
 "nbformat_minor": 2
}
