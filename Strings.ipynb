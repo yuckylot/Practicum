{
 "cells": [
  {
   "cell_type": "code",
   "execution_count": 23,
   "metadata": {
    "dotnet_interactive": {
     "language": "csharp"
    },
    "polyglot_notebook": {
     "kernelName": "csharp"
    }
   },
   "outputs": [],
   "source": [
    "using System.Text.RegularExpressions;\n",
    "static Random random = new Random();\n",
    "        public static char GetLetter()\n",
    "        {\n",
    "            // This method returns a random lowercase letter\n",
    "            // ... Between 'a' and 'z' inclusize.\n",
    "            int num = random.Next(0, 26); // Zero to 25\n",
    "            char let = (char)('a' + num);\n",
    "            return let;\n",
    "        }"
   ]
  },
  {
   "cell_type": "markdown",
   "metadata": {},
   "source": [
    "**Part 1.**\n",
    "Провести 2 эксперимента: (для string и StringBuilder):\n",
    "\n",
    "    1. Создать строку длиной 10 символов\n",
    "    2. Запустить цикл от 0 до 1000000, на каждой итерации i-й(mod10) символ меняется на случайный\n",
    "    3. Вывести время выполнения"
   ]
  },
  {
   "cell_type": "code",
   "execution_count": 24,
   "metadata": {
    "dotnet_interactive": {
     "language": "csharp"
    },
    "polyglot_notebook": {
     "kernelName": "csharp"
    }
   },
   "outputs": [
    {
     "data": {
      "text/plain": [
       "ivjpyzicyo"
      ]
     },
     "metadata": {},
     "output_type": "display_data"
    }
   ],
   "source": [
    "// String\n",
    "string s = \"aaaaaaaaaa\";\n",
    "for (int i = 0; i < 1000000; i++) {\n",
    "    s = s.Insert(i%10, Convert.ToString(GetLetter()));\n",
    "    s = s.Remove(i%10+1,1);\n",
    "}\n",
    "s\n"
   ]
  },
  {
   "cell_type": "code",
   "execution_count": 25,
   "metadata": {
    "dotnet_interactive": {
     "language": "csharp"
    },
    "polyglot_notebook": {
     "kernelName": "csharp"
    }
   },
   "outputs": [
    {
     "data": {
      "text/plain": [
       "bvpjirfofv"
      ]
     },
     "metadata": {},
     "output_type": "display_data"
    }
   ],
   "source": [
    "// StringBuilder\n",
    "StringBuilder s = new StringBuilder(\"aaaaaaaaaa\");\n",
    "for (int i = 0; i < 1000000; i++) {\n",
    "    s = s.Insert(i%10, GetLetter());\n",
    "    s = s.Remove(i%10+1,1);\n",
    "}\n",
    "s.ToString()"
   ]
  },
  {
   "cell_type": "markdown",
   "metadata": {},
   "source": [
    "**Part 2.** Проверить, что строка содержит время в 24-часовом формате.\n"
   ]
  },
  {
   "cell_type": "code",
   "execution_count": 26,
   "metadata": {
    "dotnet_interactive": {
     "language": "csharp"
    },
    "polyglot_notebook": {
     "kernelName": "csharp"
    }
   },
   "outputs": [
    {
     "name": "stdout",
     "output_type": "stream",
     "text": [
      "True\n",
      "False\n"
     ]
    }
   ],
   "source": [
    "\n",
    "string t = \"21:34:15 abbdf\";\n",
    "string f = \"gfffdfd\";\n",
    "string pat = @\"([0-1][0-9]|2[0-4]):[0-5][0-9]:[0-5][0-9]\";\n",
    "public bool Reg(string pattern, string s) {\n",
    "    Regex regex = new Regex(pattern);\n",
    "    Match matcht = regex.Match(s);\n",
    "    if (matcht.Success) {;\n",
    "        return true;\n",
    "    }\n",
    "    else {\n",
    "        return false;\n",
    "    }\n",
    "}\n",
    "Console.WriteLine(Reg(pat, t));\n",
    "Console.WriteLine(Reg(pat, f));"
   ]
  },
  {
   "cell_type": "markdown",
   "metadata": {},
   "source": [
    "**Part 3.**"
   ]
  },
  {
   "cell_type": "markdown",
   "metadata": {},
   "source": [
    "Проверить, что строка содержит корректный адрес электронной почты:\n",
    "\n",
    "В никнейме содержатся буквы, цифры, дефисы, нижние подчеркивания\n",
    "Домен может быть любого уровня > 1. Допустимые имена"
   ]
  },
  {
   "cell_type": "code",
   "execution_count": 27,
   "metadata": {
    "dotnet_interactive": {
     "language": "csharp"
    },
    "polyglot_notebook": {
     "kernelName": "csharp"
    }
   },
   "outputs": [
    {
     "name": "stdout",
     "output_type": "stream",
     "text": [
      "True\n",
      "False\n"
     ]
    }
   ],
   "source": [
    "string correctEmailFormat = \"g1g1-_mail@uni.ru\";\n",
    "string incorrectEmailFormat = \"3.@d\";\n",
    "\n",
    "string pattern = @\"[a-zA-Z0-9-_]+\\@([a-z]+\\.)+[a-z]+$\";\n",
    "\n",
    "Console.WriteLine($\"{Regex.IsMatch(correctEmailFormat, pattern)}\");\n",
    "Console.WriteLine($\"{Regex.IsMatch(incorrectEmailFormat, pattern)}\");"
   ]
  }
 ],
 "metadata": {
  "kernelspec": {
   "display_name": ".NET (C#)",
   "language": "C#",
   "name": ".net-csharp"
  },
  "language_info": {
   "name": "polyglot-notebook"
  },
  "polyglot_notebook": {
   "kernelInfo": {
    "defaultKernelName": "csharp",
    "items": [
     {
      "aliases": [],
      "languageName": "csharp",
      "name": "csharp"
     }
    ]
   }
  }
 },
 "nbformat": 4,
 "nbformat_minor": 2
}
