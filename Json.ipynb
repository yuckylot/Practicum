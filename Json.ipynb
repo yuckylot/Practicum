{
 "cells": [
  {
   "cell_type": "code",
   "execution_count": 16,
   "metadata": {
    "dotnet_interactive": {
     "language": "csharp"
    },
    "polyglot_notebook": {
     "kernelName": "csharp"
    }
   },
   "outputs": [],
   "source": [
    "using Newtonsoft.Json;\n",
    "using Newtonsoft.Json.Linq;\n",
    "using System.IO;\n",
    "using System.Collections.Generic;\n",
    "\n",
    "\n",
    "class Solution {\n",
    "\n",
    "\n",
    "    public static void GetStudentsWithHighestGPA(string path) {\n",
    "        JObject data = JObject.Parse(File.ReadAllText(path));\n",
    "        List<Student> students = ;\n",
    "        \n",
    "    }\n",
    "}"
   ]
  },
  {
   "cell_type": "code",
   "execution_count": 17,
   "metadata": {
    "dotnet_interactive": {
     "language": "csharp"
    },
    "polyglot_notebook": {
     "kernelName": "csharp"
    }
   },
   "outputs": [],
   "source": [
    "class Student {\n",
    "    public string Name ;\n",
    "    public string Group ;\n",
    "    public string Discipline;\n",
    "    public string Mark;\n",
    "\n",
    "    public Student(string name, string group, string discipline, string mark) {\n",
    "        this.Name = name;\n",
    "        this.Group = group;\n",
    "        this.Discipline = discipline;\n",
    "        this.Mark = mark;\n",
    "    }\n",
    "}"
   ]
  },
  {
   "cell_type": "code",
   "execution_count": 18,
   "metadata": {
    "dotnet_interactive": {
     "language": "csharp"
    },
    "polyglot_notebook": {
     "kernelName": "csharp"
    }
   },
   "outputs": [
    {
     "ename": "Error",
     "evalue": "System.ArgumentException: Accessed JObject values with invalid key value: {\r\n  \"taskName\": \"GetStudentsWithHighestGPA\",\r\n  \"data\": [\r\n    {\r\n      \"name\": \"Cadet1\",\r\n      \"group\": \"SC-991\",\r\n      \"discipline\": \"Programming\",\r\n      \"mark\": 5\r\n    },\r\n    {\r\n      \"name\": \"Cadet2\",\r\n      \"group\": \"SC-991\",\r\n      \"discipline\": \"Programming\",\r\n      \"mark\": 3\r\n    },\r\n    {\r\n      \"name\": \"Cadet1\",\r\n      \"group\": \"SC-991\",\r\n      \"discipline\": \"Algebra\",\r\n      \"mark\": 5\r\n    },\r\n    {\r\n      \"name\": \"Cadet2\",\r\n      \"group\": \"SC-991\",\r\n      \"discipline\": \"Algebra\",\r\n      \"mark\": 4\r\n    },\r\n    {\r\n      \"name\": \"Cadet3\",\r\n      \"group\": \"SC-992\",\r\n      \"discipline\": \"Programming\",\r\n      \"mark\": 4\r\n    },\r\n    {\r\n      \"name\": \"Cadet4\",\r\n      \"group\": \"SC-992\",\r\n      \"discipline\": \"Programming\",\r\n      \"mark\": 5\r\n    },\r\n    {\r\n      \"name\": \"Cadet3\",\r\n      \"group\": \"SC-992\",\r\n      \"discipline\": \"Algebra\",\r\n      \"mark\": 3\r\n    },\r\n    {\r\n      \"name\": \"Cadet4\",\r\n      \"group\": \"SC-992\",\r\n      \"discipline\": \"Algebra\",\r\n      \"mark\": 5\r\n    }\r\n  ]\r\n}. Object property name expected.\r\n   at Newtonsoft.Json.Linq.JObject.get_Item(Object key)\r\n   at Submission#19.<<Initialize>>d__0.MoveNext()\r\n--- End of stack trace from previous location ---\r\n   at Microsoft.CodeAnalysis.Scripting.ScriptExecutionState.RunSubmissionsAsync[TResult](ImmutableArray`1 precedingExecutors, Func`2 currentExecutor, StrongBox`1 exceptionHolderOpt, Func`2 catchExceptionOpt, CancellationToken cancellationToken)",
     "output_type": "error",
     "traceback": [
      "System.ArgumentException: Accessed JObject values with invalid key value: {\r\n",
      "  \"taskName\": \"GetStudentsWithHighestGPA\",\r\n",
      "  \"data\": [\r\n",
      "    {\r\n",
      "      \"name\": \"Cadet1\",\r\n",
      "      \"group\": \"SC-991\",\r\n",
      "      \"discipline\": \"Programming\",\r\n",
      "      \"mark\": 5\r\n",
      "    },\r\n",
      "    {\r\n",
      "      \"name\": \"Cadet2\",\r\n",
      "      \"group\": \"SC-991\",\r\n",
      "      \"discipline\": \"Programming\",\r\n",
      "      \"mark\": 3\r\n",
      "    },\r\n",
      "    {\r\n",
      "      \"name\": \"Cadet1\",\r\n",
      "      \"group\": \"SC-991\",\r\n",
      "      \"discipline\": \"Algebra\",\r\n",
      "      \"mark\": 5\r\n",
      "    },\r\n",
      "    {\r\n",
      "      \"name\": \"Cadet2\",\r\n",
      "      \"group\": \"SC-991\",\r\n",
      "      \"discipline\": \"Algebra\",\r\n",
      "      \"mark\": 4\r\n",
      "    },\r\n",
      "    {\r\n",
      "      \"name\": \"Cadet3\",\r\n",
      "      \"group\": \"SC-992\",\r\n",
      "      \"discipline\": \"Programming\",\r\n",
      "      \"mark\": 4\r\n",
      "    },\r\n",
      "    {\r\n",
      "      \"name\": \"Cadet4\",\r\n",
      "      \"group\": \"SC-992\",\r\n",
      "      \"discipline\": \"Programming\",\r\n",
      "      \"mark\": 5\r\n",
      "    },\r\n",
      "    {\r\n",
      "      \"name\": \"Cadet3\",\r\n",
      "      \"group\": \"SC-992\",\r\n",
      "      \"discipline\": \"Algebra\",\r\n",
      "      \"mark\": 3\r\n",
      "    },\r\n",
      "    {\r\n",
      "      \"name\": \"Cadet4\",\r\n",
      "      \"group\": \"SC-992\",\r\n",
      "      \"discipline\": \"Algebra\",\r\n",
      "      \"mark\": 5\r\n",
      "    }\r\n",
      "  ]\r\n",
      "}. Object property name expected.\r\n",
      "   at Newtonsoft.Json.Linq.JObject.get_Item(Object key)\r\n",
      "   at Submission#19.<<Initialize>>d__0.MoveNext()\r\n",
      "--- End of stack trace from previous location ---\r\n",
      "   at Microsoft.CodeAnalysis.Scripting.ScriptExecutionState.RunSubmissionsAsync[TResult](ImmutableArray`1 precedingExecutors, Func`2 currentExecutor, StrongBox`1 exceptionHolderOpt, Func`2 catchExceptionOpt, CancellationToken cancellationToken)"
     ]
    }
   ],
   "source": [
    "\n",
    "string path = @\"C:\\Coding\\repos\\yuckylot\\Practicum\\GetStudentsWithHighestGPA.json\";\n",
    "\n",
    "JObject data = JObject.Parse(File.ReadAllText(path));\n",
    "JToken students = data[data];\n",
    "students"
   ]
  }
 ],
 "metadata": {
  "kernelspec": {
   "display_name": ".NET (C#)",
   "language": "C#",
   "name": ".net-csharp"
  },
  "language_info": {
   "name": "polyglot-notebook"
  },
  "polyglot_notebook": {
   "kernelInfo": {
    "defaultKernelName": "csharp",
    "items": [
     {
      "aliases": [],
      "languageName": "csharp",
      "name": "csharp"
     }
    ]
   }
  }
 },
 "nbformat": 4,
 "nbformat_minor": 2
}
